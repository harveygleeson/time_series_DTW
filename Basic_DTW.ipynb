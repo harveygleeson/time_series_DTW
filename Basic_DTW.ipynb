{
 "cells": [
  {
   "cell_type": "markdown",
   "id": "a9f1467e",
   "metadata": {},
   "source": [
    "# Basic DTW Code\n",
    "Code from https://towardsdatascience.com/dynamic-time-warping-3933f25fcdd  \n",
    "This code implements a simple DTW measure between two series represented as lists.  \n",
    "It allows for series of different lengths and has a `window` parameter that determines the amount of warping allowed.  \n",
    "For series of different lengths, the minimum warping will be the difference in the lengths.  "
   ]
  },
  {
   "cell_type": "code",
   "execution_count": 8,
   "id": "43d7401b",
   "metadata": {},
   "outputs": [],
   "source": [
    "import numpy as np\n",
    "from sklearn.neighbors import KNeighborsClassifier\n"
   ]
  },
  {
   "cell_type": "code",
   "execution_count": 2,
   "id": "73329be2",
   "metadata": {},
   "outputs": [],
   "source": [
    "def dtw(s, t, window):\n",
    "    n, m = len(s), len(t)\n",
    "    w = np.max([window, abs(n-m)]) # warping cannot be less than the difference in lengths. \n",
    "    dtw_matrix = np.zeros((n+1, m+1))\n",
    "    \n",
    "    for i in range(n+1):\n",
    "        for j in range(m+1):\n",
    "            dtw_matrix[i, j] = np.inf\n",
    "    dtw_matrix[0, 0] = 0\n",
    "    \n",
    "    for i in range(1, n+1):\n",
    "        for j in range(np.max([1, i-w]), np.min([m, i+w])+1):\n",
    "            dtw_matrix[i, j] = 0\n",
    "    \n",
    "    for i in range(1, n+1):\n",
    "        for j in range(np.max([1, i-w]), np.min([m, i+w])+1):\n",
    "            cost = abs(s[i-1] - t[j-1])\n",
    "            # take last min from a square box\n",
    "            last_min = np.min([dtw_matrix[i-1, j], dtw_matrix[i, j-1], dtw_matrix[i-1, j-1]])\n",
    "            dtw_matrix[i, j] = cost + last_min\n",
    "    return dtw_matrix[-1,-1]"
   ]
  },
  {
   "cell_type": "code",
   "execution_count": 3,
   "id": "361b8066",
   "metadata": {},
   "outputs": [
    {
     "data": {
      "text/plain": [
       "3.0"
      ]
     },
     "execution_count": 3,
     "metadata": {},
     "output_type": "execute_result"
    }
   ],
   "source": [
    "a = [1,2,3,3,5]\n",
    "b = [1,2,2,2,2,2,2,4]\n",
    "dtw(a,b, window = 3)"
   ]
  },
  {
   "cell_type": "code",
   "execution_count": 4,
   "id": "908866ea",
   "metadata": {},
   "outputs": [],
   "source": [
    "x1 = [7,7,8,9,10,10,7,4,2,1,2,4,7,11,10,9,7]\n",
    "x2 = [7,8,10,10,8,7,3,2,2,4,6,12,12,9,7,7]"
   ]
  },
  {
   "cell_type": "code",
   "execution_count": 5,
   "id": "11b74182",
   "metadata": {},
   "outputs": [
    {
     "data": {
      "text/plain": [
       "18.0"
      ]
     },
     "execution_count": 5,
     "metadata": {},
     "output_type": "execute_result"
    }
   ],
   "source": [
    "dtw_0 = dtw(x1,x2,window = 1)\n",
    "dtw_0"
   ]
  },
  {
   "cell_type": "markdown",
   "id": "cb8ec5b9",
   "metadata": {},
   "source": [
    "Works also for numpy arrays."
   ]
  },
  {
   "cell_type": "code",
   "execution_count": 6,
   "id": "c76a91f1",
   "metadata": {},
   "outputs": [],
   "source": [
    "x = np.array([[7,7,8,9,10,10,7,4,2,1,2,4,7,11,10,9,7],\n",
    "                [7,8,10,10,8,7,3,2,2,4,6,12,12,9,7,7,8]])"
   ]
  },
  {
   "cell_type": "code",
   "execution_count": 7,
   "id": "5094a0a5",
   "metadata": {},
   "outputs": [
    {
     "data": {
      "text/plain": [
       "array([ 7,  7,  8,  9, 10, 10,  7,  4,  2,  1,  2,  4,  7, 11, 10,  9,  7])"
      ]
     },
     "execution_count": 7,
     "metadata": {},
     "output_type": "execute_result"
    }
   ],
   "source": [
    "x[0]"
   ]
  },
  {
   "cell_type": "code",
   "execution_count": 8,
   "id": "e2db454b",
   "metadata": {},
   "outputs": [
    {
     "name": "stdout",
     "output_type": "stream",
     "text": [
      "0 43.0\n",
      "1 19.0\n",
      "2 9.0\n",
      "3 9.0\n",
      "4 9.0\n",
      "5 9.0\n",
      "6 9.0\n",
      "7 9.0\n",
      "8 9.0\n",
      "9 9.0\n"
     ]
    }
   ],
   "source": [
    "for w in range(10):\n",
    "    dtw_n = dtw(x[0],x[1],window = w)\n",
    "    print(w, dtw_n)"
   ]
  },
  {
   "cell_type": "code",
   "execution_count": 6,
   "id": "96f3b4ae",
   "metadata": {},
   "outputs": [
    {
     "name": "stderr",
     "output_type": "stream",
     "text": [
      "/var/folders/7_/wlwr4q_96fl6zfdnq30n7gmc0000gp/T/ipykernel_22581/422163409.py:2: ParserWarning: Falling back to the 'python' engine because the 'c' engine does not support regex separators (separators > 1 char and different from '\\s+' are interpreted as regex); you can avoid this warning by specifying engine='python'.\n",
      "  UMD = pd.read_csv('UMD_TEST.txt', delimiter=\"  \", header=None)\n"
     ]
    },
    {
     "data": {
      "text/html": [
       "<div>\n",
       "<style scoped>\n",
       "    .dataframe tbody tr th:only-of-type {\n",
       "        vertical-align: middle;\n",
       "    }\n",
       "\n",
       "    .dataframe tbody tr th {\n",
       "        vertical-align: top;\n",
       "    }\n",
       "\n",
       "    .dataframe thead th {\n",
       "        text-align: right;\n",
       "    }\n",
       "</style>\n",
       "<table border=\"1\" class=\"dataframe\">\n",
       "  <thead>\n",
       "    <tr style=\"text-align: right;\">\n",
       "      <th></th>\n",
       "      <th>0</th>\n",
       "      <th>1</th>\n",
       "      <th>2</th>\n",
       "      <th>3</th>\n",
       "      <th>4</th>\n",
       "      <th>5</th>\n",
       "      <th>6</th>\n",
       "      <th>7</th>\n",
       "      <th>8</th>\n",
       "      <th>9</th>\n",
       "      <th>...</th>\n",
       "      <th>141</th>\n",
       "      <th>142</th>\n",
       "      <th>143</th>\n",
       "      <th>144</th>\n",
       "      <th>145</th>\n",
       "      <th>146</th>\n",
       "      <th>147</th>\n",
       "      <th>148</th>\n",
       "      <th>149</th>\n",
       "      <th>150</th>\n",
       "    </tr>\n",
       "  </thead>\n",
       "  <tbody>\n",
       "    <tr>\n",
       "      <th>0</th>\n",
       "      <td>1.0</td>\n",
       "      <td>0.017644</td>\n",
       "      <td>0.030949</td>\n",
       "      <td>0.050555</td>\n",
       "      <td>0.044484</td>\n",
       "      <td>0.053277</td>\n",
       "      <td>0.041576</td>\n",
       "      <td>0.030947</td>\n",
       "      <td>0.027086</td>\n",
       "      <td>0.013764</td>\n",
       "      <td>...</td>\n",
       "      <td>0.024575</td>\n",
       "      <td>0.033780</td>\n",
       "      <td>0.026589</td>\n",
       "      <td>0.013932</td>\n",
       "      <td>0.024928</td>\n",
       "      <td>0.022589</td>\n",
       "      <td>0.038248</td>\n",
       "      <td>0.049838</td>\n",
       "      <td>0.053419</td>\n",
       "      <td>0.040420</td>\n",
       "    </tr>\n",
       "    <tr>\n",
       "      <th>1</th>\n",
       "      <td>1.0</td>\n",
       "      <td>0.041296</td>\n",
       "      <td>0.003551</td>\n",
       "      <td>0.027470</td>\n",
       "      <td>0.013158</td>\n",
       "      <td>0.009571</td>\n",
       "      <td>0.008074</td>\n",
       "      <td>0.043743</td>\n",
       "      <td>0.040592</td>\n",
       "      <td>0.012190</td>\n",
       "      <td>...</td>\n",
       "      <td>0.060539</td>\n",
       "      <td>0.046991</td>\n",
       "      <td>0.023586</td>\n",
       "      <td>0.001562</td>\n",
       "      <td>-0.002196</td>\n",
       "      <td>0.036730</td>\n",
       "      <td>0.039027</td>\n",
       "      <td>0.007754</td>\n",
       "      <td>0.004697</td>\n",
       "      <td>0.031440</td>\n",
       "    </tr>\n",
       "    <tr>\n",
       "      <th>2</th>\n",
       "      <td>1.0</td>\n",
       "      <td>-0.000720</td>\n",
       "      <td>0.013283</td>\n",
       "      <td>0.029450</td>\n",
       "      <td>0.045201</td>\n",
       "      <td>0.006317</td>\n",
       "      <td>0.018805</td>\n",
       "      <td>0.028901</td>\n",
       "      <td>0.013832</td>\n",
       "      <td>0.015240</td>\n",
       "      <td>...</td>\n",
       "      <td>0.016442</td>\n",
       "      <td>0.039508</td>\n",
       "      <td>0.015171</td>\n",
       "      <td>0.034708</td>\n",
       "      <td>0.010835</td>\n",
       "      <td>0.002942</td>\n",
       "      <td>0.006924</td>\n",
       "      <td>0.029502</td>\n",
       "      <td>0.040786</td>\n",
       "      <td>0.023144</td>\n",
       "    </tr>\n",
       "    <tr>\n",
       "      <th>3</th>\n",
       "      <td>1.0</td>\n",
       "      <td>0.005201</td>\n",
       "      <td>0.013363</td>\n",
       "      <td>0.025733</td>\n",
       "      <td>0.026653</td>\n",
       "      <td>0.038946</td>\n",
       "      <td>0.012494</td>\n",
       "      <td>0.028303</td>\n",
       "      <td>0.032011</td>\n",
       "      <td>0.009467</td>\n",
       "      <td>...</td>\n",
       "      <td>0.006383</td>\n",
       "      <td>0.037448</td>\n",
       "      <td>0.044335</td>\n",
       "      <td>0.011143</td>\n",
       "      <td>-0.003624</td>\n",
       "      <td>0.001467</td>\n",
       "      <td>0.020991</td>\n",
       "      <td>0.027675</td>\n",
       "      <td>0.001621</td>\n",
       "      <td>0.015858</td>\n",
       "    </tr>\n",
       "    <tr>\n",
       "      <th>4</th>\n",
       "      <td>1.0</td>\n",
       "      <td>0.022926</td>\n",
       "      <td>0.027036</td>\n",
       "      <td>0.011668</td>\n",
       "      <td>0.019500</td>\n",
       "      <td>0.036049</td>\n",
       "      <td>-0.001297</td>\n",
       "      <td>0.019717</td>\n",
       "      <td>0.039583</td>\n",
       "      <td>0.020628</td>\n",
       "      <td>...</td>\n",
       "      <td>0.026997</td>\n",
       "      <td>0.036653</td>\n",
       "      <td>0.018117</td>\n",
       "      <td>0.018314</td>\n",
       "      <td>0.012536</td>\n",
       "      <td>0.040599</td>\n",
       "      <td>0.016590</td>\n",
       "      <td>0.032730</td>\n",
       "      <td>0.002498</td>\n",
       "      <td>0.011260</td>\n",
       "    </tr>\n",
       "  </tbody>\n",
       "</table>\n",
       "<p>5 rows × 151 columns</p>\n",
       "</div>"
      ],
      "text/plain": [
       "   0         1         2         3         4         5         6         7    \\\n",
       "0  1.0  0.017644  0.030949  0.050555  0.044484  0.053277  0.041576  0.030947   \n",
       "1  1.0  0.041296  0.003551  0.027470  0.013158  0.009571  0.008074  0.043743   \n",
       "2  1.0 -0.000720  0.013283  0.029450  0.045201  0.006317  0.018805  0.028901   \n",
       "3  1.0  0.005201  0.013363  0.025733  0.026653  0.038946  0.012494  0.028303   \n",
       "4  1.0  0.022926  0.027036  0.011668  0.019500  0.036049 -0.001297  0.019717   \n",
       "\n",
       "        8         9    ...       141       142       143       144       145  \\\n",
       "0  0.027086  0.013764  ...  0.024575  0.033780  0.026589  0.013932  0.024928   \n",
       "1  0.040592  0.012190  ...  0.060539  0.046991  0.023586  0.001562 -0.002196   \n",
       "2  0.013832  0.015240  ...  0.016442  0.039508  0.015171  0.034708  0.010835   \n",
       "3  0.032011  0.009467  ...  0.006383  0.037448  0.044335  0.011143 -0.003624   \n",
       "4  0.039583  0.020628  ...  0.026997  0.036653  0.018117  0.018314  0.012536   \n",
       "\n",
       "        146       147       148       149       150  \n",
       "0  0.022589  0.038248  0.049838  0.053419  0.040420  \n",
       "1  0.036730  0.039027  0.007754  0.004697  0.031440  \n",
       "2  0.002942  0.006924  0.029502  0.040786  0.023144  \n",
       "3  0.001467  0.020991  0.027675  0.001621  0.015858  \n",
       "4  0.040599  0.016590  0.032730  0.002498  0.011260  \n",
       "\n",
       "[5 rows x 151 columns]"
      ]
     },
     "execution_count": 6,
     "metadata": {},
     "output_type": "execute_result"
    }
   ],
   "source": [
    "import pandas as pd\n",
    "UMD = pd.read_csv('UMD_TEST.txt', delimiter=\"  \", header=None)\n",
    "UMD.head()"
   ]
  },
  {
   "cell_type": "code",
   "execution_count": 7,
   "id": "63d2ff3e",
   "metadata": {},
   "outputs": [],
   "source": [
    "# Isolate the target values\n",
    "y = UMD.pop(0).values\n",
    "# Isolate the corresponding features\n",
    "X = UMD.values\n"
   ]
  },
  {
   "cell_type": "code",
   "execution_count": 9,
   "id": "db8483dc",
   "metadata": {},
   "outputs": [
    {
     "data": {
      "text/plain": [
       "KNeighborsClassifier(n_neighbors=1)"
      ]
     },
     "execution_count": 9,
     "metadata": {},
     "output_type": "execute_result"
    }
   ],
   "source": [
    "kNN = KNeighborsClassifier(n_neighbors=1)\n",
    "kNN.fit(X,y)"
   ]
  },
  {
   "cell_type": "markdown",
   "id": "1831faa9",
   "metadata": {},
   "source": [
    "If metric is a callable function, it takes two arrays representing 1D vectors as inputs and must return one value indicating the distance between those vectors. This works for Scipy’s metrics, but is less efficient than passing the metric name as a string.\n"
   ]
  },
  {
   "cell_type": "code",
   "execution_count": 29,
   "id": "622d1007",
   "metadata": {},
   "outputs": [],
   "source": [
    "def dtw(s, t, **kwargs):\n",
    "    if \"window\" in kwargs:\n",
    "        window = kwargs[\"window\"]\n",
    "    else:\n",
    "        window = 3\n",
    "        \n",
    "    n, m = len(s), len(t)\n",
    "    w = np.max([window, abs(n-m)]) # warping cannot be less than the difference in lengths. \n",
    "    dtw_matrix = np.zeros((n+1, m+1))\n",
    "    \n",
    "    for i in range(n+1):\n",
    "        for j in range(m+1):\n",
    "            dtw_matrix[i, j] = np.inf\n",
    "    dtw_matrix[0, 0] = 0\n",
    "    \n",
    "    for i in range(1, n+1):\n",
    "        for j in range(np.max([1, i-w]), np.min([m, i+w])+1):\n",
    "            dtw_matrix[i, j] = 0\n",
    "    \n",
    "    for i in range(1, n+1):\n",
    "        for j in range(np.max([1, i-w]), np.min([m, i+w])+1):\n",
    "            cost = abs(s[i-1] - t[j-1])\n",
    "            # take last min from a square box\n",
    "            last_min = np.min([dtw_matrix[i-1, j], dtw_matrix[i, j-1], dtw_matrix[i-1, j-1]])\n",
    "            dtw_matrix[i, j] = cost + last_min\n",
    "    return dtw_matrix[-1,-1]\n",
    "\n",
    "params={\"window\": 1}\n",
    "kNN = KNeighborsClassifier(n_neighbors=1, metric=dtw, metric_params=params)\n",
    "kNN = kNN.fit(X,y)"
   ]
  },
  {
   "cell_type": "code",
   "execution_count": 30,
   "id": "75852d70",
   "metadata": {},
   "outputs": [
    {
     "data": {
      "text/plain": [
       "array([1.])"
      ]
     },
     "execution_count": 30,
     "metadata": {},
     "output_type": "execute_result"
    }
   ],
   "source": [
    "kNN.predict(X[:1])"
   ]
  },
  {
   "cell_type": "code",
   "execution_count": null,
   "id": "7a22e964",
   "metadata": {},
   "outputs": [],
   "source": []
  }
 ],
 "metadata": {
  "kernelspec": {
   "display_name": "Python 3 (ipykernel)",
   "language": "python",
   "name": "python3"
  },
  "language_info": {
   "codemirror_mode": {
    "name": "ipython",
    "version": 3
   },
   "file_extension": ".py",
   "mimetype": "text/x-python",
   "name": "python",
   "nbconvert_exporter": "python",
   "pygments_lexer": "ipython3",
   "version": "3.9.12"
  }
 },
 "nbformat": 4,
 "nbformat_minor": 5
}
